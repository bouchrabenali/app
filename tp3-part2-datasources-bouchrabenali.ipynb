{
 "cells": [
  {
   "cell_type": "code",
   "execution_count": 1,
   "metadata": {},
   "outputs": [],
   "source": [
    "import time\n",
    "\n",
    "def timing_decorator(func):\n",
    "    def wrapper(*args, **kwargs):\n",
    "        start_time = time.time()\n",
    "        result = func(*args, **kwargs)\n",
    "        end_time = time.time()\n",
    "        execution_time = end_time - start_time\n",
    "        print(f\"{func.__name__} took {execution_time} seconds to execute.\")\n",
    "        return result\n",
    "    return wrapper\n"
   ]
  },
  {
   "cell_type": "markdown",
   "metadata": {},
   "source": [
    "Testing the timing decorator with different functions :"
   ]
  },
  {
   "cell_type": "code",
   "execution_count": 2,
   "metadata": {},
   "outputs": [],
   "source": [
    "@timing_decorator\n",
    "def word_count_1(text):\n",
    "    words = text.split()\n",
    "    return len(words)\n",
    "\n",
    "@timing_decorator\n",
    "def word_count_2(text):\n",
    "    words = text.split()\n",
    "    unique_words = set(words)\n",
    "    return len(unique_words)\n"
   ]
  },
  {
   "cell_type": "code",
   "execution_count": 3,
   "metadata": {},
   "outputs": [
    {
     "name": "stdout",
     "output_type": "stream",
     "text": [
      "word_count_1 took 0.0 seconds to execute.\n",
      "word_count_2 took 0.0 seconds to execute.\n"
     ]
    }
   ],
   "source": [
    "shakespeare_text = \"To be or not to be, that is the question.\"\n",
    "\n",
    "count1 = word_count_1(shakespeare_text)\n",
    "count2 = word_count_2(shakespeare_text)\n"
   ]
  },
  {
   "cell_type": "code",
   "execution_count": 4,
   "metadata": {},
   "outputs": [
    {
     "name": "stdout",
     "output_type": "stream",
     "text": [
      "some_function took 2.0114455223083496 seconds to execute.\n"
     ]
    }
   ],
   "source": [
    "@timing_decorator\n",
    "def some_function():\n",
    "    # some_function in your example is an empty function, it just pauses for 2 seconds using the time.sleep(2) line\n",
    "    #I am using it just to test the timing decorator\n",
    "    time.sleep(2)\n",
    "\n",
    "some_function()\n"
   ]
  },
  {
   "cell_type": "code",
   "execution_count": 5,
   "metadata": {},
   "outputs": [
    {
     "name": "stdout",
     "output_type": "stream",
     "text": [
      "Requirement already satisfied: requests in c:\\users\\bouchra\\miniconda3\\lib\\site-packages (2.28.1)\n",
      "Requirement already satisfied: charset-normalizer<3,>=2 in c:\\users\\bouchra\\miniconda3\\lib\\site-packages (from requests) (2.0.4)\n",
      "Requirement already satisfied: idna<4,>=2.5 in c:\\users\\bouchra\\miniconda3\\lib\\site-packages (from requests) (3.4)\n",
      "Requirement already satisfied: urllib3<1.27,>=1.21.1 in c:\\users\\bouchra\\miniconda3\\lib\\site-packages (from requests) (1.26.13)\n",
      "Requirement already satisfied: certifi>=2017.4.17 in c:\\users\\bouchra\\miniconda3\\lib\\site-packages (from requests) (2022.12.7)\n",
      "Note: you may need to restart the kernel to use updated packages.\n"
     ]
    },
    {
     "name": "stderr",
     "output_type": "stream",
     "text": [
      "\n",
      "[notice] A new release of pip is available: 23.2.1 -> 23.3.1\n",
      "[notice] To update, run: python.exe -m pip install --upgrade pip\n"
     ]
    }
   ],
   "source": [
    "pip install requests\n"
   ]
  },
  {
   "cell_type": "markdown",
   "metadata": {},
   "source": [
    "Download Shakespear artwork ( https://ocw.mit.edu/ans7870/6/6.006/s08/lecturenotes/files/t8.shakespeare.txt ) "
   ]
  },
  {
   "cell_type": "code",
   "execution_count": 6,
   "metadata": {},
   "outputs": [
    {
     "name": "stdout",
     "output_type": "stream",
     "text": [
      "Shakespearean text downloaded and saved as 'shakespeare.txt'.\n"
     ]
    }
   ],
   "source": [
    "import requests\n",
    "\n",
    "# URL of the Shakespearean text\n",
    "url = \"https://ocw.mit.edu/ans7870/6/6.006/s08/lecturenotes/files/t8.shakespeare.txt\"\n",
    "\n",
    "# Send a GET request to the URL\n",
    "response = requests.get(url)\n",
    "\n",
    "# Check if the request was successful (status code 200)\n",
    "if response.status_code == 200:\n",
    "    # Save the content to a local file\n",
    "    with open(\"shakespeare.txt\", \"wb\") as file:\n",
    "        file.write(response.content)\n",
    "    print(\"Shakespearean text downloaded and saved as 'shakespeare.txt'.\")\n",
    "else:\n",
    "    print(\"Failed to download the Shakespearean text.\")\n"
   ]
  },
  {
   "cell_type": "markdown",
   "metadata": {},
   "source": [
    "Create 2 functions that count the number of appearances of each word in this text:\n",
    " a. using a dictionary b. using the Counter function "
   ]
  },
  {
   "cell_type": "code",
   "execution_count": 7,
   "metadata": {},
   "outputs": [],
   "source": [
    "# Read the Shakespearean text from the 'shakespeare.txt' file\n",
    "with open(\"shakespeare.txt\", \"r\") as file:\n",
    "    shakespeare_text = file.read()"
   ]
  },
  {
   "cell_type": "code",
   "execution_count": 8,
   "metadata": {},
   "outputs": [
    {
     "name": "stdout",
     "output_type": "stream",
     "text": [
      "word_count_dictionary took 0.3972952365875244 seconds to execute.\n"
     ]
    }
   ],
   "source": [
    "@timing_decorator\n",
    "def word_count_dictionary(text):\n",
    "    words = text.split()\n",
    "    word_count = {}\n",
    "    for word in words:\n",
    "        word = word.lower()\n",
    "        if word in word_count:\n",
    "            word_count[word] += 1\n",
    "        else:\n",
    "            word_count[word] = 1\n",
    "    return word_count\n",
    "\n",
    "word_count_dict = word_count_dictionary(shakespeare_text)\n"
   ]
  },
  {
   "cell_type": "code",
   "execution_count": 9,
   "metadata": {},
   "outputs": [
    {
     "name": "stdout",
     "output_type": "stream",
     "text": [
      "word_count_counter took 0.25891733169555664 seconds to execute.\n"
     ]
    }
   ],
   "source": [
    "from collections import Counter\n",
    "\n",
    "@timing_decorator\n",
    "def word_count_counter(text):\n",
    "    words = text.split()\n",
    "    word_count = Counter(words)\n",
    "    return word_count\n",
    "\n",
    "word_count_ctr = word_count_counter(shakespeare_text)\n"
   ]
  },
  {
   "cell_type": "markdown",
   "metadata": {},
   "source": [
    "What is the time taken for both implementations for this task? Why is it different? What are the specificities of the underlying data structures (especially the dictionary)? "
   ]
  },
  {
   "cell_type": "code",
   "execution_count": 10,
   "metadata": {},
   "outputs": [
    {
     "name": "stdout",
     "output_type": "stream",
     "text": [
      "word_count_dictionary took 0.47302961349487305 seconds to execute.\n",
      "word_count_counter took 0.21587634086608887 seconds to execute.\n"
     ]
    }
   ],
   "source": [
    "# Call the functions to measure execution time\n",
    "word_count_dict = word_count_dictionary(shakespeare_text)\n",
    "word_count_ctr = word_count_counter(shakespeare_text)\n"
   ]
  },
  {
   "cell_type": "markdown",
   "metadata": {},
   "source": [
    "The difference in execution time is due to the specificities of the underlying data structures and how the word counting is implemented.\n",
    "\n",
    "In the word_count_dictionary implementation, the code splits the text into words and iterates over each word, and for each word it checks if it's already in the dictionary. If it is, it increments the count for that word, otherwise, it adds the word to the dictionary with a count of 1. This can be computationally expensive, especially for a large text like Shakespeare's text.\n",
    "\n",
    "In the word_count_counter implementation, the code also splits the text into words. The Counter class counts words using an underlying dictionary-like structure that is specifically designed for efficient counting . It automatically increments the counts as it iterates over the words in the text, which means that the data structure is optimized for counting, resulting in faster execution."
   ]
  },
  {
   "cell_type": "markdown",
   "metadata": {},
   "source": [
    "# To be more precise, run this experiment 100 times and plot the two distributions of execution times."
   ]
  },
  {
   "cell_type": "code",
   "execution_count": 14,
   "metadata": {},
   "outputs": [
    {
     "data": {
      "image/png": "[encoded data removed]",
      "text/plain": [
       "<Figure size 1200x600 with 2 Axes>"
      ]
     },
     "metadata": {},
     "output_type": "display_data"
    }
   ],
   "source": [
    "import time\n",
    "import urllib.request\n",
    "from collections import Counter\n",
    "import matplotlib.pyplot as plt\n",
    "\n",
    "# Decorator for timing\n",
    "def timing_decorator(func):\n",
    "    def wrapper(*args, **kwargs):\n",
    "        start_time = time.time()\n",
    "        result = func(*args, **kwargs)\n",
    "        end_time = time.time()\n",
    "        return end_time - start_time  # Return execution time\n",
    "    return wrapper\n",
    "\n",
    "# Function to count words using a dictionary\n",
    "@timing_decorator\n",
    "def word_count_dictionary(text):\n",
    "    words = text.split()\n",
    "    word_count = {}\n",
    "    for word in words:\n",
    "        word = word.lower()\n",
    "        if word in word_count:\n",
    "            word_count[word] += 1\n",
    "        else:\n",
    "            word_count[word] = 1\n",
    "    return word_count\n",
    "\n",
    "# Function to count words using Counter\n",
    "@timing_decorator\n",
    "def word_count_counter(text):\n",
    "    words = text.split()\n",
    "    word_count = Counter(words)\n",
    "    return word_count\n",
    "\n",
    "# Download the Shakespearean text\n",
    "url = \"https://ocw.mit.edu/ans7870/6/6.006/s08/lecturenotes/files/t8.shakespeare.txt\"\n",
    "response = urllib.request.urlopen(url)\n",
    "shakespeare_text = response.read().decode('utf-8')\n",
    "\n",
    "# Number of iterations for the experiment\n",
    "num_iterations = 100\n",
    "\n",
    "# Lists to store execution times\n",
    "execution_times_dict = []\n",
    "execution_times_ctr = []\n",
    "\n",
    "# Run the experiment 100 times\n",
    "for _ in range(num_iterations):\n",
    "    execution_time_dict = word_count_dictionary(shakespeare_text)\n",
    "    execution_time_ctr = word_count_counter(shakespeare_text)\n",
    "    \n",
    "    execution_times_dict.append(execution_time_dict)\n",
    "    execution_times_ctr.append(execution_time_ctr)\n",
    "\n",
    "# Plot the distributions of execution times\n",
    "plt.figure(figsize=(12, 6))\n",
    "plt.subplot(1, 2, 1)\n",
    "plt.hist(execution_times_dict, bins=20, color='b', alpha=0.7)\n",
    "plt.title('Execution Times (Dictionary-based)')\n",
    "plt.xlabel('Time (seconds)')\n",
    "plt.ylabel('Frequency')\n",
    "\n",
    "plt.subplot(1, 2, 2)\n",
    "plt.hist(execution_times_ctr, bins=20, color='g', alpha=0.7)\n",
    "plt.title('Execution Times (Counter-based)')\n",
    "plt.xlabel('Time (seconds)')\n",
    "plt.ylabel('Frequency')\n",
    "\n",
    "plt.tight_layout()\n",
    "plt.show()\n"
   ]
  }
 ],
 "metadata": {
  "kernelspec": {
   "display_name": ".venv",
   "language": "python",
   "name": "python3"
  },
  "language_info": {
   "codemirror_mode": {
    "name": "ipython",
    "version": 3
   },
   "file_extension": ".py",
   "mimetype": "text/x-python",
   "name": "python",
   "nbconvert_exporter": "python",
   "pygments_lexer": "ipython3",
   "version": "3.10.8"
  }
 },
 "nbformat": 4,
 "nbformat_minor": 2
}
